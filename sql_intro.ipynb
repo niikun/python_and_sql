{
  "nbformat": 4,
  "nbformat_minor": 0,
  "metadata": {
    "colab": {
      "provenance": [],
      "authorship_tag": "ABX9TyPyuGAA8QLQzweCCyZVIQ+S",
      "include_colab_link": true
    },
    "kernelspec": {
      "name": "python3",
      "display_name": "Python 3"
    },
    "language_info": {
      "name": "python"
    }
  },
  "cells": [
    {
      "cell_type": "markdown",
      "metadata": {
        "id": "view-in-github",
        "colab_type": "text"
      },
      "source": [
        "<a href=\"https://colab.research.google.com/github/niikun/python_and_sql/blob/main/sql_intro.ipynb\" target=\"_parent\"><img src=\"https://colab.research.google.com/assets/colab-badge.svg\" alt=\"Open In Colab\"/></a>"
      ]
    },
    {
      "cell_type": "code",
      "execution_count": 1,
      "metadata": {
        "id": "Mr55K9VyERAS"
      },
      "outputs": [],
      "source": [
        "import sqlite3"
      ]
    },
    {
      "cell_type": "code",
      "source": [
        "conn = sqlite3.connect(\"db.sqlite\")\n",
        "cursor = conn.cursor()\n",
        "\n",
        "cursor.execute('''\n",
        "    CREATE TABLE users(\n",
        "        id INTEGER PRIMARY KEY,\n",
        "        name TEXT,\n",
        "        email TEXT\n",
        "    )\n",
        "''')"
      ],
      "metadata": {
        "colab": {
          "base_uri": "https://localhost:8080/"
        },
        "id": "gFlQlS_8EbfD",
        "outputId": "5fc7780a-d8f4-482e-8289-52a5dfbf1a54"
      },
      "execution_count": 2,
      "outputs": [
        {
          "output_type": "execute_result",
          "data": {
            "text/plain": [
              "<sqlite3.Cursor at 0x7ea8358efe40>"
            ]
          },
          "metadata": {},
          "execution_count": 2
        }
      ]
    },
    {
      "cell_type": "code",
      "source": [
        "conn.commit()"
      ],
      "metadata": {
        "id": "NCZbM6b2FGlA"
      },
      "execution_count": 3,
      "outputs": []
    },
    {
      "cell_type": "code",
      "source": [
        "cursor.execute('''\n",
        "    INSERT INTO users(name,email)\n",
        "    VALUES (?,?)\n",
        "''',(\"niikun\",\"niikun@test.com\"))\n",
        "\n",
        "conn.commit()"
      ],
      "metadata": {
        "id": "w3l5RaQJFJKq"
      },
      "execution_count": 5,
      "outputs": []
    },
    {
      "cell_type": "code",
      "source": [
        "cursor.execute('''\n",
        "    INSERT INTO users(name,email)\n",
        "    VALUES (?,?)\n",
        "''',(\"ikuoko\",\"ikuko@test.com\"))\n",
        "\n",
        "conn.commit()"
      ],
      "metadata": {
        "id": "o_ahzSB_Gcb3"
      },
      "execution_count": 8,
      "outputs": []
    },
    {
      "cell_type": "code",
      "source": [
        "cursor.execute('''\n",
        "    INSERT INTO users(name,email)\n",
        "    VALUES (?,?)\n",
        "''',(\"mayoko\",\"mayoko@test.com\"))\n",
        "\n",
        "conn.commit()"
      ],
      "metadata": {
        "id": "umLm9JDAGXsX"
      },
      "execution_count": 10,
      "outputs": []
    },
    {
      "cell_type": "code",
      "source": [
        "cursor.execute('''\n",
        "    SELECT * FROM users\n",
        "''')\n",
        "\n",
        "for row in cursor:\n",
        "    print(row)"
      ],
      "metadata": {
        "colab": {
          "base_uri": "https://localhost:8080/"
        },
        "id": "J47CiyvkFqAW",
        "outputId": "616fed3a-6b98-4d4e-e4c3-4a5f4f3be7d8"
      },
      "execution_count": 11,
      "outputs": [
        {
          "output_type": "stream",
          "name": "stdout",
          "text": [
            "(1, 'niikun', 'niikun@test.com')\n",
            "(2, 'ikuoko', 'ikuko@test.com')\n",
            "(3, 'mayoko', 'mayoko@test.com')\n"
          ]
        }
      ]
    },
    {
      "cell_type": "code",
      "source": [],
      "metadata": {
        "id": "70ZbksW3GJ2l"
      },
      "execution_count": null,
      "outputs": []
    }
  ]
}