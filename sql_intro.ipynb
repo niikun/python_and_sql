{
  "nbformat": 4,
  "nbformat_minor": 0,
  "metadata": {
    "colab": {
      "provenance": [],
      "authorship_tag": "ABX9TyNmQC0WeA+euo3dwx1qmGpZ",
      "include_colab_link": true
    },
    "kernelspec": {
      "name": "python3",
      "display_name": "Python 3"
    },
    "language_info": {
      "name": "python"
    }
  },
  "cells": [
    {
      "cell_type": "markdown",
      "metadata": {
        "id": "view-in-github",
        "colab_type": "text"
      },
      "source": [
        "<a href=\"https://colab.research.google.com/github/niikun/python_and_sql/blob/main/sql_intro.ipynb\" target=\"_parent\"><img src=\"https://colab.research.google.com/assets/colab-badge.svg\" alt=\"Open In Colab\"/></a>"
      ]
    },
    {
      "cell_type": "code",
      "execution_count": 1,
      "metadata": {
        "id": "Mr55K9VyERAS"
      },
      "outputs": [],
      "source": [
        "import sqlite3"
      ]
    },
    {
      "cell_type": "code",
      "source": [
        "conn = sqlite3.connect(\"db.sqlite\")\n",
        "cursor = conn.cursor()\n",
        "\n",
        "cursor.execute('''\n",
        "    CREATE TABLE users(\n",
        "        id INTEGER PRIMARY KEY,\n",
        "        name TEXT,\n",
        "        email TEXT\n",
        "    )\n",
        "''')"
      ],
      "metadata": {
        "colab": {
          "base_uri": "https://localhost:8080/"
        },
        "id": "gFlQlS_8EbfD",
        "outputId": "44f8285e-cd07-4096-8e53-83d67b163d9b"
      },
      "execution_count": 2,
      "outputs": [
        {
          "output_type": "execute_result",
          "data": {
            "text/plain": [
              "<sqlite3.Cursor at 0x7cef31153640>"
            ]
          },
          "metadata": {},
          "execution_count": 2
        }
      ]
    },
    {
      "cell_type": "code",
      "source": [
        "conn.commit()"
      ],
      "metadata": {
        "id": "NCZbM6b2FGlA"
      },
      "execution_count": 3,
      "outputs": []
    },
    {
      "cell_type": "code",
      "source": [
        "cursor.execute('''\n",
        "    INSERT INTO users(name,email)\n",
        "    VALUES (?,?)\n",
        "''',(\"niikun\",\"niikun@test.com\"))\n",
        "\n",
        "conn.commit()"
      ],
      "metadata": {
        "id": "w3l5RaQJFJKq"
      },
      "execution_count": 4,
      "outputs": []
    },
    {
      "cell_type": "code",
      "source": [
        "cursor.execute('''\n",
        "    INSERT INTO users(name,email)\n",
        "    VALUES (?,?)\n",
        "''',(\"ikuoko\",\"ikuko@test.com\"))\n",
        "\n",
        "conn.commit()"
      ],
      "metadata": {
        "id": "o_ahzSB_Gcb3"
      },
      "execution_count": 5,
      "outputs": []
    },
    {
      "cell_type": "code",
      "source": [
        "cursor.execute('''\n",
        "    INSERT INTO users(name,email)\n",
        "    VALUES (?,?)\n",
        "''',(\"mayoko\",\"mayoko@test.com\"))\n",
        "\n",
        "conn.commit()"
      ],
      "metadata": {
        "id": "umLm9JDAGXsX"
      },
      "execution_count": 6,
      "outputs": []
    },
    {
      "cell_type": "code",
      "source": [
        "cursor.execute('''\n",
        "    SELECT * FROM users\n",
        "''')\n",
        "\n",
        "for row in cursor:\n",
        "    print(row)"
      ],
      "metadata": {
        "colab": {
          "base_uri": "https://localhost:8080/"
        },
        "id": "J47CiyvkFqAW",
        "outputId": "d68a5b9e-8000-4ae6-d9b1-8c6fd545307e"
      },
      "execution_count": 7,
      "outputs": [
        {
          "output_type": "stream",
          "name": "stdout",
          "text": [
            "(1, 'niikun', 'niikun@test.com')\n",
            "(2, 'ikuoko', 'ikuko@test.com')\n",
            "(3, 'mayoko', 'mayoko@test.com')\n"
          ]
        }
      ]
    },
    {
      "cell_type": "code",
      "source": [
        "query = \"SELECT name,email FROM users ORDER BY name DESC\"\n",
        "for result in cursor.execute(query):\n",
        "    print(result)"
      ],
      "metadata": {
        "id": "70ZbksW3GJ2l",
        "colab": {
          "base_uri": "https://localhost:8080/"
        },
        "outputId": "9c4f4713-9ec8-4d32-a329-cc7bbe95aa3e"
      },
      "execution_count": 10,
      "outputs": [
        {
          "output_type": "stream",
          "name": "stdout",
          "text": [
            "('niikun', 'niikun@test.com')\n",
            "('mayoko', 'mayoko@test.com')\n",
            "('ikuoko', 'ikuko@test.com')\n"
          ]
        }
      ]
    },
    {
      "cell_type": "code",
      "source": [
        "query = \"SELECT  email FROM users WHERE name = ?\"\n",
        "for result in cursor.execute(query,(\"niikun\",)):\n",
        "    print(result[0])"
      ],
      "metadata": {
        "colab": {
          "base_uri": "https://localhost:8080/"
        },
        "id": "7QBem1Poqpin",
        "outputId": "857062ff-1738-4737-abc5-7ddfa0612835"
      },
      "execution_count": 18,
      "outputs": [
        {
          "output_type": "stream",
          "name": "stdout",
          "text": [
            "niikun@test.com\n"
          ]
        }
      ]
    },
    {
      "cell_type": "code",
      "source": [
        "query = \"SELECT name,email FROM users WHERE name LIKE '%ko'\"\n",
        "for result in cursor.execute(query):\n",
        "    print(result)"
      ],
      "metadata": {
        "colab": {
          "base_uri": "https://localhost:8080/"
        },
        "id": "bQ2t1tLVrcfL",
        "outputId": "90e17bac-c32f-4a0d-cdc1-18fd416041f6"
      },
      "execution_count": 22,
      "outputs": [
        {
          "output_type": "stream",
          "name": "stdout",
          "text": [
            "('ikuoko', 'ikuko@test.com')\n",
            "('mayoko', 'mayoko@test.com')\n"
          ]
        }
      ]
    },
    {
      "cell_type": "code",
      "source": [],
      "metadata": {
        "id": "9AFr3x7ZuXF9"
      },
      "execution_count": null,
      "outputs": []
    }
  ]
}